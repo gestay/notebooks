{
 "metadata": {
  "language": "Julia",
  "name": "",
  "signature": "sha256:4fc2f680770caa732a60c72f89ffdb30cefd2be300827d49cdd29f8a2608e556"
 },
 "nbformat": 3,
 "nbformat_minor": 0,
 "worksheets": [
  {
   "cells": [
    {
     "cell_type": "markdown",
     "metadata": {},
     "source": [
      "# Resoluci\u00f3n de la Ecuaci\u00f3n de Colebrook-White Mediante la Funci\u00f3n W de Lambert\n",
      "\n",
      "## Introducci\u00f3n"
     ]
    },
    {
     "cell_type": "code",
     "collapsed": false,
     "input": [],
     "language": "python",
     "metadata": {},
     "outputs": []
    }
   ],
   "metadata": {}
  }
 ]
}