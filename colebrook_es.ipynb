{
 "metadata": {
  "language": "Julia",
  "name": "",
  "signature": "sha256:53444ece455cce5e1741214fd6ffbbf09ceeba0e6740dee6078f815806ce1157"
 },
 "nbformat": 3,
 "nbformat_minor": 0,
 "worksheets": [
  {
   "cells": [
    {
     "cell_type": "markdown",
     "metadata": {},
     "source": [
      "# Resoluci\u00f3n de la Ecuaci\u00f3n de Colebrook-White Mediante la Funci\u00f3n W de Lambert\n",
      "\n",
      "## Introducci\u00f3n\n",
      "\n",
      "Estudiaremos las perdidas de cargas en tuber\u00edas que son producidas debido a la friccion en las paredes. Para simplificar el an\u00e1lisis, consideraremos una tuber\u00eda de secci\u00f3n circular. Las p\u00e9rdidas friccionales se pueden calcular mediante la ecuaci\u00f3n de Darcy-Weisbash:\n",
      "\n",
      "\\begin{equation}\n",
      "\\Lambda_f = \\frac{fV^2L}{2gD}\n",
      "\\end{equation}\n",
      "\n",
      "Donde:\n",
      "* $\\Lambda_f$: P\u00e9rdidas friccionales.\n",
      "* $f$: Factor de fricci\u00f3n.\n",
      "* $V$: Velocidad media del flu\u00eddo.\n",
      "* $L$: Largo de la tubr\u00eda.\n",
      "* $D$: Di\u00e1metro de la tuber\u00eda.\n",
      "* $g$: Aceleraci\u00f3n de gravedad.\n",
      "\n",
      "En general, el factor de fricci\u00f3n depende del n\u00faero de Reynolds, el cual est\u00e1 dado por:\n",
      "\n",
      "\\begin{equation}\n",
      "\\mathrm{Re} = \\frac{VD}{\\nu}\n",
      "\\end{equation}\n",
      "\n",
      "Donde $\\nu$ es la viscocidad cinem\u00e1tica del fluido.\n",
      "\n",
      "Para fluidos tubulentos se tiene, aproximadamente, $\\mathrm{Re} > 4000$ y el factor de fricci\u00f3n se puede calcular mediante la ecuaci\u00f3n de Colebrook-White:\n",
      "\n",
      "\\begin{equation}\n",
      "\\frac{1}{\\sqrt{f}} = \\log_{10} \\left( \\frac{k}{3.7D} + \\frac{2.51}{\\mathrm{Re}\\sqrt{f}}  \\right)\n",
      "\\end{equation}\n",
      "\n",
      "Donde $k$ es la rugosidad de la tuber\u00eda. "
     ]
    },
    {
     "cell_type": "code",
     "collapsed": false,
     "input": [],
     "language": "python",
     "metadata": {},
     "outputs": []
    }
   ],
   "metadata": {}
  }
 ]
}