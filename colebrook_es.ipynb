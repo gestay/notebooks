{
 "metadata": {
  "language": "Julia",
  "name": "",
  "signature": "sha256:a5415944f0cd54b39d1fb815b0d3e0ed0cfe1bb13e571deb0bde07ba7550f73f"
 },
 "nbformat": 3,
 "nbformat_minor": 0,
 "worksheets": [
  {
   "cells": [
    {
     "cell_type": "markdown",
     "metadata": {},
     "source": [
      "# Resoluci\u00f3n Num\u00e9rica de la Ecuaci\u00f3n de Colebrook-White\n",
      "\n",
      "## Introducci\u00f3n\n",
      "\n",
      "Estudiaremos las perdidas de cargas en tuber\u00edas que son producidas debido a la friccion en las paredes. Para simplificar el an\u00e1lisis, consideraremos una tuber\u00eda de secci\u00f3n circular. Las p\u00e9rdidas friccionales se pueden calcular mediante la ecuaci\u00f3n de Darcy-Weisbash:\n",
      "\n",
      "\\begin{equation}\n",
      "\\Lambda_f = \\frac{fV^2L}{2gD}\n",
      "\\end{equation}\n",
      "\n",
      "Donde:\n",
      "* $\\Lambda_f$: P\u00e9rdidas friccionales.\n",
      "* $f$: Factor de fricci\u00f3n.\n",
      "* $V$: Velocidad media del flu\u00eddo.\n",
      "* $L$: Largo de la tubr\u00eda.\n",
      "* $D$: Di\u00e1metro de la tuber\u00eda.\n",
      "* $g$: Aceleraci\u00f3n de gravedad.\n",
      "\n",
      "En general, el factor de fricci\u00f3n depende del n\u00faero de Reynolds, el cual est\u00e1 dado por:\n",
      "\n",
      "\\begin{equation}\n",
      "\\mathrm{Re} = \\frac{VD}{\\nu}\n",
      "\\end{equation}\n",
      "\n",
      "Donde $\\nu$ es la viscocidad cinem\u00e1tica del fluido.\n",
      "\n",
      "Para fluidos tubulentos se tiene, aproximadamente, $\\mathrm{Re} > 4000$ y el factor de fricci\u00f3n se puede calcular mediante la ecuaci\u00f3n de Colebrook-White:\n",
      "\n",
      "\\begin{equation}\n",
      "\\frac{1}{\\sqrt{f}} = -2\\log_{10} \\left( \\frac{k}{3.7D} + \\frac{2.51}{\\mathrm{Re}\\sqrt{f}}  \\right)\n",
      "\\end{equation}\n",
      "\n",
      "Donde $k$ es la rugosidad de la tuber\u00eda. \n",
      "\n",
      "## R\u00e9gimen Hidrodin\u00e1micamente Rugoso\n",
      "Si el numero de Reynodls es alto, se dice que el flujo est\u00e1 en un r\u00e9gimen hidrodin\u00e1micamente rugoso, y la ecuaci\u00f3n se puede aproximar de la siguiente forma:\n",
      "\n",
      "\\begin{equation}\n",
      "\\frac{1}{\\sqrt{f}} \\approx -2\\log_{10} \\left( \\frac{k}{3.7D} \\right)\n",
      "\\end{equation}\n",
      "\n",
      "As\u00ed, el factor de fricci\u00f3n se puede calcular de la siguiente forma:\n",
      "\n",
      "\\begin{equation}\n",
      "f = \\frac{1}{4 \\left[ \\log_{10} \\left( \\frac{k}{3.7D} \\right) \\right]^2}\n",
      "\\end{equation}"
     ]
    },
    {
     "cell_type": "markdown",
     "metadata": {},
     "source": [
      "## Resoluci\u00f3n Num\u00e9rica\n",
      "Para los distintos m\u00e9todos de resoluci\u00f3n num\u00e9rica consideraremos los siguientse par\u00e1metros:\n",
      "* $D = 0.1 \\, \\mathrm{m}$\n",
      "* $V = 0.1 \\, \\mathrm{m/s}$\n",
      "* $\\nu = 10^{-6} \\, \\mathrm{m^2/s}$ (Viscocidad cinem\u00e1tica del agua)\n",
      "* $k = 0.0024 \\, \\mathrm{m^2/s}$ (Rugosidad del acero comercial)\n",
      "\n",
      "Con esto podemos calcular el n\u00famero de Reynolds."
     ]
    },
    {
     "cell_type": "code",
     "collapsed": false,
     "input": [
      "using Roots\n",
      "D = 1.0\n",
      "V = 0.001\n",
      "nu = 10.0^-6.0\n",
      "k = 0.0024\n",
      "\n",
      "Re = V*D/nu;\n",
      "print(\"Re = \", Re)"
     ],
     "language": "python",
     "metadata": {},
     "outputs": [
      {
       "output_type": "stream",
       "stream": "stdout",
       "text": [
        "Re = 1000"
       ]
      },
      {
       "output_type": "stream",
       "stream": "stdout",
       "text": [
        ".0000000000001"
       ]
      }
     ],
     "prompt_number": 202
    },
    {
     "cell_type": "markdown",
     "metadata": {},
     "source": [
      "### Aproximaci\u00f3n de R\u00e9gimen Hidrodin\u00e1micamente Rugoso"
     ]
    },
    {
     "cell_type": "code",
     "collapsed": false,
     "input": [
      "f1 = 1.0 / (4.0 * log10( k / (3.7*D) )^2 )"
     ],
     "language": "python",
     "metadata": {},
     "outputs": [
      {
       "metadata": {},
       "output_type": "pyout",
       "prompt_number": 221,
       "text": [
        "0.024598349985633827"
       ]
      }
     ],
     "prompt_number": 221
    },
    {
     "cell_type": "markdown",
     "metadata": {},
     "source": [
      "### Resoluci\u00f3n por M\u00e9todo Busca Zeros\n",
      "El paquete Roots de julia tiene distintos algoritmos para encontrar los zeros de una funci\u00f3n."
     ]
    },
    {
     "cell_type": "code",
     "collapsed": false,
     "input": [
      "fzero(x -> ( 1.0 / sqrt(x) ) + 2.0*log10( ( k/(3.7*D) ) + 2.51/( Re*sqrt(x) ) ), f1)"
     ],
     "language": "python",
     "metadata": {},
     "outputs": [
      {
       "metadata": {},
       "output_type": "pyout",
       "prompt_number": 223,
       "text": [
        "0.0640274243493468"
       ]
      }
     ],
     "prompt_number": 223
    }
   ],
   "metadata": {}
  }
 ]
}